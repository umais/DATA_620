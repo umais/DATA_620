{
  "nbformat": 4,
  "nbformat_minor": 0,
  "metadata": {
    "colab": {
      "name": "Assignment_1.ipynb",
      "provenance": [],
      "collapsed_sections": [],
      "toc_visible": true
    },
    "kernelspec": {
      "name": "python3",
      "display_name": "Python 3"
    }
  },
  "cells": [
    {
      "cell_type": "markdown",
      "metadata": {
        "id": "NX_UzQ5g4dWl"
      },
      "source": [
        "# Assignment 1 : Hello Graph World\r\n",
        "\r\n",
        "Data 620\r\n",
        "\r\n",
        "Umais Siddiqui"
      ]
    },
    {
      "cell_type": "markdown",
      "metadata": {
        "id": "AFiLeHdS4-BI"
      },
      "source": [
        "**Social Networking and Graphs:**\r\n",
        "\r\n",
        "Social Networking is a part of our daily life . We can analyze social networking by using graphs. In this assignment I will be using networkx to construct a simple hello graph world program that will display the Krackhardt Kite Graph. I created a gml file with some basic data of friends relationships. We will also analyze the data below by reading from the gml file."
      ]
    },
    {
      "cell_type": "code",
      "metadata": {
        "colab": {
          "base_uri": "https://localhost:8080/",
          "height": 319
        },
        "id": "rdFxGmShnlZV",
        "outputId": "de49e8e8-20c5-436b-cfc6-55b451addd79"
      },
      "source": [
        "import networkx\r\n",
        "import matplotlib.pyplot as plt\r\n",
        "\r\n",
        "\r\n",
        "G=networkx.Graph()\r\n",
        "gml_graph=networkx.read_gml('./HelloWorldGraph.gml')\r\n",
        "\r\n",
        "networkx.draw(gml_graph, with_labels=True, font_weight='bold')"
      ],
      "execution_count": 2,
      "outputs": [
        {
          "output_type": "display_data",
          "data": {
            "image/png": "[encoded data removed]",
            "text/plain": [
              "<Figure size 432x288 with 1 Axes>"
            ]
          },
          "metadata": {
            "tags": []
          }
        }
      ]
    },
    {
      "cell_type": "markdown",
      "metadata": {
        "id": "P2SBCjfg4ajE"
      },
      "source": [
        "Looking at the Graph File"
      ]
    },
    {
      "cell_type": "code",
      "metadata": {
        "colab": {
          "base_uri": "https://localhost:8080/"
        },
        "id": "BaIJdDWPtcHI",
        "outputId": "3d453ad3-d6bf-42da-cbbd-c52752e8ae38"
      },
      "source": [
        "f = open(\"./HelloWorldGraph.gml\", \"r\")\r\n",
        "print(f.read())"
      ],
      "execution_count": 3,
      "outputs": [
        {
          "output_type": "stream",
          "text": [
            "\n",
            "\n",
            "graph \n",
            "[\n",
            " comment \"This is Hello World Graph\"\n",
            " directed 0\n",
            " label \"Hello, I am a graph\"\n",
            " node \n",
            " [\n",
            " id 1\n",
            " label \"Umais\"\n",
            "  ]\n",
            " node \n",
            " [\n",
            " id 2\n",
            " label \"John\"\n",
            " ]\n",
            " node \n",
            " [\n",
            " id 3\n",
            " label \"Amie\"\n",
            " ]\n",
            " node \n",
            " [\n",
            " id 4\n",
            " label \"Amber\"\n",
            " ]\n",
            " node \n",
            " [\n",
            " id 5\n",
            " label \"Amrita\"\n",
            " ]\n",
            " node \n",
            " [\n",
            " id 6\n",
            " label \"Auj\"\n",
            " ]\n",
            " node \n",
            " [\n",
            " id 7\n",
            " label \"Hayyan\"\n",
            " ]\n",
            " node \n",
            " [\n",
            " id 8\n",
            " label \"Baqar\"\n",
            " ]\n",
            " node \n",
            " [\n",
            " id 9\n",
            " label \"Moosa\"\n",
            " ]\n",
            " node \n",
            " [\n",
            " id 10\n",
            " label \"Joe\"\n",
            " ]\n",
            " edge \n",
            " [\n",
            " source 1\n",
            " target 2\n",
            " label \"Edge from node 1 to node 2\"\n",
            " ]\n",
            " edge \n",
            " [\n",
            " source 1\n",
            " target 3\n",
            " label \"Edge from node 2 to node 3\"\n",
            " ]\n",
            " edge \n",
            " [\n",
            " source 1\n",
            " target 4\n",
            " label \"Edge from node 3 to node 1\"\n",
            " ]\n",
            " edge \n",
            " [\n",
            " source 1\n",
            " target 6\n",
            " label \"Edge from node 3 to node 1\"\n",
            " ]\n",
            " edge \n",
            " [\n",
            " source 2\n",
            " target 6\n",
            " label \"Edge from node 3 to node 1\"\n",
            " ]\n",
            " edge \n",
            " [\n",
            " source 2\n",
            " target 5\n",
            " label \"Edge from node 3 to node 1\"\n",
            " ]\n",
            " edge \n",
            " [\n",
            " source 2\n",
            " target 4\n",
            " label \"Edge from node 3 to node 1\"\n",
            " ]\n",
            " edge \n",
            " [\n",
            " source 3\n",
            " target 4\n",
            " label \"Edge from node 3 to node 1\"\n",
            " ]\n",
            " edge \n",
            " [\n",
            " source 3\n",
            " target 6\n",
            " label \"Edge from node 3 to node 1\"\n",
            " ]\n",
            " edge \n",
            " [\n",
            " source 4\n",
            " target 5\n",
            " label \"Edge from node 3 to node 1\"\n",
            " ]\n",
            " edge \n",
            " [\n",
            " source 6\n",
            " target 4\n",
            " label \"Edge from node 3 to node 1\"\n",
            " ]\n",
            " edge \n",
            " [\n",
            " source 6\n",
            " target 7\n",
            " label \"Edge from node 3 to node 1\"\n",
            " ]\n",
            " edge \n",
            " [\n",
            " source 2\n",
            " target 7\n",
            " label \"Edge from node 3 to node 1\"\n",
            " ]\n",
            " edge \n",
            " [\n",
            " source 7\n",
            " target 5\n",
            " label \"Edge from node 3 to node 1\"\n",
            " ]\n",
            " edge \n",
            " [\n",
            " source 7\n",
            " target 4\n",
            " label \"Edge from node 3 to node 1\"\n",
            " ]\n",
            " edge \n",
            " [\n",
            " source 7\n",
            " target 8\n",
            " label \"Edge from node 3 to node 1\"\n",
            " ]\n",
            " edge \n",
            " [\n",
            " source 6\n",
            " target 8\n",
            " label \"Edge from node 3 to node 1\"\n",
            " ]\n",
            " edge \n",
            " [\n",
            " source 8\n",
            " target 9\n",
            " label \"Edge from node 3 to node 1\"\n",
            " ]\n",
            " edge \n",
            " [\n",
            " source 9\n",
            " target 10\n",
            " label \"Edge from node 3 to node 1\"\n",
            " ]\n",
            "]\n"
          ],
          "name": "stdout"
        }
      ]
    },
    {
      "cell_type": "markdown",
      "metadata": {
        "id": "fOD5Voo0hKR8"
      },
      "source": [
        "The above gml file contains all the nodes and edges that I used to construct this graph. The file is created in a specific format that specifies the different constructs like graph, nodes and edges. The great thing about networx is that it can read graph data from various formats , such as text files, csv , web url and gml file. In this assignment I used the gml file just to demonstrate that I have the networkx library in working condition on my machine."
      ]
    }
  ]
}